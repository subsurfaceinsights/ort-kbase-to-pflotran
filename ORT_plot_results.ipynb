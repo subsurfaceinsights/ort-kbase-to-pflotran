{
 "cells": [
  {
   "cell_type": "markdown",
   "id": "running-thriller",
   "metadata": {},
   "source": [
    "# Plotting ORT Results\n",
    "\n",
    "This narrative is not a core component of the ORT workflow, but is provided alongside it as we think it may be useful to you for vizualizing model results."
   ]
  },
  {
   "cell_type": "code",
   "execution_count": null,
   "id": "correct-address",
   "metadata": {},
   "outputs": [],
   "source": [
    "# Import plotting libraries\n",
    "import pandas as pd\n",
    "import matplotlib as mpl\n",
    "import matplotlib.pyplot as plt\n",
    "import matplotlib.ticker as mtick\n",
    "from kbpf_tools import speciessorter"
   ]
  },
  {
   "cell_type": "markdown",
   "id": "hourly-chancellor",
   "metadata": {},
   "source": [
    "## Designate Output Files\n",
    "\n",
    "Here we list the tec files we want to plot (with paths from this notebook's working directory) and then create a list of tec files. This is to facilitate adding multiple tec files to plot side-by-side, but it will still work with only a single tec file in the \"list\"."
   ]
  },
  {
   "cell_type": "code",
   "execution_count": null,
   "id": "hispanic-exhaust",
   "metadata": {},
   "outputs": [],
   "source": [
    "# Names of the tec files we want to plot\n",
    "real_tec = './infiles/nitrogen_cycling_in_hanford_300_river_sediments_0d-obs-0.tec'\n",
    "literature_tec = './infiles/nitrogen_cycling_0d-obs-0.tec'\n",
    "\n",
    "# List all the files we want to iterate over\n",
    "tecfiles = [real_tec, literature_tec]"
   ]
  },
  {
   "cell_type": "markdown",
   "id": "expected-preview",
   "metadata": {},
   "source": [
    "## Organize data and clean column names\n",
    "\n",
    "In this cell, we shorten the PFLOTRAN-assigned names to make them human-readable and organize them into a dictionary to make them easier to call later."
   ]
  },
  {
   "cell_type": "code",
   "execution_count": null,
   "id": "happy-encyclopedia",
   "metadata": {},
   "outputs": [],
   "source": [
    "\n",
    "results = {}\n",
    "\n",
    "for i in tecfiles:\n",
    "    df = pd.read_table(i, sep='\\s+', header=None, engine='python', skiprows=[0])\n",
    "    df_header = pd.read_table(i, sep=',', nrows=0)\n",
    "    cols = list(df_header.columns.values)\n",
    "    goodcols = [j.strip().strip('\"').split('-',1)[-1].split('Free',1)[-1]\n",
    "                .strip().replace(' ', '_').replace('_all', ' ').split(' ')[0] for j in cols]\n",
    "    df.columns = goodcols\n",
    "    unwanted = df.columns[df.columns.str.startswith('Total_')]\n",
    "    dfclean = df.drop(unwanted, axis=1)\n",
    "    results.update({i.split('/')[-1].split('-')[0]: dfclean})"
   ]
  },
  {
   "cell_type": "markdown",
   "id": "local-roman",
   "metadata": {},
   "source": [
    "## Sort into logical categories\n",
    "\n",
    "The species_sorter function included in the tools script is designed to divide outputs into logical categories automatically. Not all models will contain all of these categories (so you may end up with some empty lists) and in some cases you may want to divide them more manually, but we've found this useful for quick vizualization. "
   ]
  },
  {
   "cell_type": "code",
   "execution_count": null,
   "id": "informal-sensitivity",
   "metadata": {},
   "outputs": [],
   "source": [
    "Nspecies_lit, Cspecies_lit, Pspecies_lit, Sspecies_lit, ions_lit, solids_lit, physical_lit, biomass_lit = speciessorter(results['nitrogen_cycling_0d'],\n",
    "                                                           timepoints = False)\n",
    "\n",
    "Nspecies_river, Cspecies_river, Pspecies_river, Sspecies_river, ions_river, solids_river, physical_river, biomass_river = speciessorter(results['nitrogen_cycling_in_hanford_300_river_sediments_0d'],\n",
    "                                                           timepoints = False)"
   ]
  },
  {
   "cell_type": "markdown",
   "id": "medium-basic",
   "metadata": {},
   "source": [
    "## Plot Results - Nitrogen cycle"
   ]
  },
  {
   "cell_type": "code",
   "execution_count": null,
   "id": "addressed-statistics",
   "metadata": {},
   "outputs": [],
   "source": [
    "# Establish labeling we want to use\n",
    "x = 'Time_[d]'\n",
    "lit = results['nitrogen_cycling_0d']\n",
    "river = results['nitrogen_cycling_in_hanford_300_river_sediments_0d']"
   ]
  },
  {
   "cell_type": "code",
   "execution_count": null,
   "id": "popular-security",
   "metadata": {},
   "outputs": [],
   "source": [
    "# Plot nitrogen species\n",
    "Nitrogen_fig = plt.figure(1)\n",
    "ax1 = Nitrogen_fig.add_subplot(211)\n",
    "ax2 = Nitrogen_fig.add_subplot(212)\n",
    "\n",
    "lit.plot(x=x, y=Nspecies_lit, ax=ax1, sharex=True)\n",
    "river.plot(x=x, y=Nspecies_river, ax=ax2, sharex=True)\n",
    "\n",
    "ax1.yaxis.set_major_formatter(mtick.FormatStrFormatter('%.1e'))\n",
    "ax2.yaxis.set_major_formatter(mtick.FormatStrFormatter('%.1e'))\n",
    "\n",
    "ax1.set_ylim(0, 9e-7)\n",
    "ax2.set_ylim(0, 9e-7)\n",
    "ax1.set_xlim(0,0.25)\n",
    "ax2.set_xlim(0,0.25)\n",
    "\n",
    "ax1.set_title(\"Literature-based\")\n",
    "ax2.set_title(\"Site-specific\")\n",
    "\n",
    "ax1.legend(loc = 'center right', bbox_to_anchor=(1.35,.5), ncol=1)\n",
    "ax2.legend(loc = 'center right', bbox_to_anchor=(1.35,.5), ncol=1)"
   ]
  },
  {
   "cell_type": "markdown",
   "id": "fatty-communication",
   "metadata": {},
   "source": [
    "## Carbon utilization\n",
    "\n",
    "Next, we'll plot the carbon sources. You'll notice that with the standard sorting, it is hard to see what is happening with many of the carbon sources in the site-specific model because there are so many (thus the legend below the figure instead of beside it). If you want to inspect more carefully, you can plot one (or several) compounds at a time instead of the whole group using, for example:\n",
    "`river.plot(x=x, y='Acetate-_[M]', ax=ax4, sharex=True)`\n",
    "\n",
    "where the keys used for the `y` argument are the species names used by PFLOTRAN."
   ]
  },
  {
   "cell_type": "code",
   "execution_count": null,
   "id": "found-persian",
   "metadata": {},
   "outputs": [],
   "source": [
    "Carbon_fig = plt.figure(2)\n",
    "ax3 = Carbon_fig.add_subplot(211)\n",
    "ax4 = Carbon_fig.add_subplot(212)\n",
    "\n",
    "lit.plot(x=x, y=Cspecies_lit, ax=ax3, sharex=True)\n",
    "river.plot(x=x, y=Cspecies_river, ax=ax4, sharex=True)\n",
    "\n",
    "ax3.yaxis.set_major_formatter(mtick.FormatStrFormatter('%.3e'))\n",
    "ax4.yaxis.set_major_formatter(mtick.FormatStrFormatter('%.3e'))\n",
    "\n",
    "ax3.set_xlim(0,0.25)\n",
    "ax4.set_xlim(0,0.25)\n",
    "\n",
    "ax3.set_title(\"Literature-based\")\n",
    "ax4.set_title(\"Site-specific\")\n",
    "\n",
    "ax3.legend(loc = 'center right', bbox_to_anchor=(1.35,.5), ncol=1)\n",
    "ax4.legend(loc = 'center right', bbox_to_anchor=(1.35,-1), ncol=3)"
   ]
  }
 ],
 "metadata": {
  "kernelspec": {
   "display_name": "Python 3",
   "language": "python",
   "name": "python3"
  },
  "language_info": {
   "codemirror_mode": {
    "name": "ipython",
    "version": 3
   },
   "file_extension": ".py",
   "mimetype": "text/x-python",
   "name": "python",
   "nbconvert_exporter": "python",
   "pygments_lexer": "ipython3",
   "version": "3.6.9"
  }
 },
 "nbformat": 4,
 "nbformat_minor": 5
}
